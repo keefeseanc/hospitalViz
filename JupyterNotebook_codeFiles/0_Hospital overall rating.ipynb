{
 "cells": [
  {
   "cell_type": "markdown",
   "metadata": {},
   "source": [
    "# Overall Ratings \n",
    "### Used one data file - Hospital overall rating "
   ]
  },
  {
   "cell_type": "code",
   "execution_count": 1,
   "metadata": {
    "scrolled": true
   },
   "outputs": [
    {
     "name": "stdout",
     "output_type": "stream",
     "text": [
      "+-----------------------+-----+\n",
      "|Hospital_overall_rating|COUNT|\n",
      "+-----------------------+-----+\n",
      "|                      3| 1186|\n",
      "|                      4| 1154|\n",
      "|          Not Available| 1110|\n",
      "|                      2|  752|\n",
      "|                      5|  336|\n",
      "|                      1|  260|\n",
      "+-----------------------+-----+\n",
      "\n"
     ]
    },
    {
     "data": {
      "image/png": "[encoded data removed]",
      "text/plain": [
       "<Figure size 792x432 with 1 Axes>"
      ]
     },
     "metadata": {},
     "output_type": "display_data"
    }
   ],
   "source": [
    "# %pylab osx\n",
    "import os\n",
    "import sys\n",
    "from pyspark import SparkContext\n",
    "from matplotlib.pylab import *\n",
    "import matplotlib.pyplot as plt\n",
    "from pyspark.sql import SparkSession\n",
    "from pyspark.sql import SQLContext\n",
    "%matplotlib inline\n",
    "\n",
    "spark = SparkSession \\\n",
    "    .builder \\\n",
    "    .appName(\"hospital rating\") \\\n",
    "    .getOrCreate()\n",
    "        \n",
    "df = spark.read.load(\"/Users/seankeefe/Desktop/Hospital_General_Information.csv\", \n",
    "                     format=\"csv\", sep=\",\", inferSchema=\"true\", header=\"true\")\n",
    "#df = sqlContext.read.format('com.databricks.spark.csv').options(header='true', inferschema='true').load('/Users/seankeefe/Desktop/Hospital_General_Information.csv')\n",
    "\n",
    "#print(type(df))\n",
    "df.registerTempTable('Mytable')\n",
    "groupByCount = spark.sql(\"SELECT Hospital_overall_rating, COUNT(Hospital_overall_rating) AS COUNT FROM Mytable GROUP BY Hospital_overall_rating order by count(Hospital_overall_rating) DESC \")\n",
    "groupByCount.show()\n",
    "\n",
    "_dataList = groupByCount.collect()\n",
    "x_axis = []\n",
    "y_axis = []\n",
    "\n",
    "for i in range(len(_dataList)):\n",
    "    x_axis.append(_dataList[i][0])\n",
    "    y_axis.append(_dataList[i][1])\n",
    "\n",
    "pos = np.arange(len(x_axis))\n",
    "\n",
    "ax = plt.axes()\n",
    "ax.set_xticks(pos)\n",
    "ax.set_xticklabels(x_axis)\n",
    "\n",
    "plt.bar(pos, y_axis, 0.5, color='orange')\n",
    "plt.xticks(rotation= 0)\n",
    "fig = matplotlib.pyplot.gcf()\n",
    "fig.set_size_inches(11, 6)\n",
    "\n",
    "def onclick(event):\n",
    "    print('button=%d, x=%d, y=%d, xdata=%f, ydata=%f' %\n",
    "          (event.button, event.x, event.y, event.xdata, event.ydata))\n",
    "\n",
    "cid = fig.canvas.mpl_connect('button_press_event', onclick)\n"
   ]
  },
  {
   "cell_type": "code",
   "execution_count": null,
   "metadata": {},
   "outputs": [],
   "source": []
  },
  {
   "cell_type": "code",
   "execution_count": null,
   "metadata": {},
   "outputs": [],
   "source": []
  }
 ],
 "metadata": {
  "kernelspec": {
   "display_name": "Python 3",
   "language": "python",
   "name": "python3"
  },
  "language_info": {
   "codemirror_mode": {
    "name": "ipython",
    "version": 3
   },
   "file_extension": ".py",
   "mimetype": "text/x-python",
   "name": "python",
   "nbconvert_exporter": "python",
   "pygments_lexer": "ipython3",
   "version": "3.6.5"
  }
 },
 "nbformat": 4,
 "nbformat_minor": 2
}
